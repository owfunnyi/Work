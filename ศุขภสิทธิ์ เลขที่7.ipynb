{
 "cells": [
  {
   "cell_type": "markdown",
   "metadata": {},
   "source": [
    "# ให้นักเรียนเขียนฟังก์ชั่น เพื่อคำนวณเส้นรอบรูปและพื้นที่ ของรูปทรงเรขาคณิต 2 มิติ (สามเหลี่ยม สี่เหลี่ยม วงกลม) แยกฟังก์ชั่นละ 1 รูปทรง โดยคำนวณเส้นรอบรูปและพื้นที่ภายในฟังก์ชั่น แล้ว print ผลลัพธ์ออกทางหน้าจอให้สวยงาม โดยตั้งชื่อฟังก์ชั่น ตัวแปร ให้สื่อความหมายอย่างเหมาะสม"
   ]
  },
  {
   "cell_type": "code",
   "execution_count": null,
   "metadata": {},
   "outputs": [],
   "source": [
    "## ตัวอย่าง\n",
    "# def circle(radius):\n",
    "#     curriculum = \n",
    "#     area =\n",
    "#     print(\"เส้นรอบวงของวงกลม =\", curriculum)\n",
    "#     print(\"พื้นที่ของวงกลม =\", area)"
   ]
  },
  {
   "cell_type": "code",
   "execution_count": 84,
   "metadata": {},
   "outputs": [],
   "source": [
    "## สี่เหลี่ยม\n",
    "def square(width,xlong):\n",
    "    width = float(5)\n",
    "    xlong = float(10)\n",
    "    area = width * xlong\n",
    " \n",
    "    print(\"พื้นที่สี่เหลี่ยมผืนผ้ามีค่าเท่ากับ %.2f\" % area)"
   ]
  },
  {
   "cell_type": "code",
   "execution_count": 90,
   "metadata": {},
   "outputs": [],
   "source": [
    "## สามเหลี่ยม\n",
    "def triangle(base,height):\n",
    "    base = float(5)\n",
    "    height = float(7)\n",
    "    area = 0.5 * base * height\n",
    " \n",
    "    print(\"พื้นที่สามเหลี่ยมมีค่าเท่ากับ %.2f\" % area)"
   ]
  },
  {
   "cell_type": "code",
   "execution_count": 91,
   "metadata": {},
   "outputs": [],
   "source": [
    "## วงรี\n",
    "def oval(longbigradius,longsmallradius):\n",
    "    longbigradius = float(5)\n",
    "    longsmallradius = float(3)\n",
    "    area = longsmallradius * longbigradius * 3.14\n",
    " \n",
    "    print(\"พื้นที่วงรีเท่ากับ %.2f\" % area)"
   ]
  },
  {
   "cell_type": "code",
   "execution_count": 92,
   "metadata": {},
   "outputs": [],
   "source": [
    "## สี่เหลี่ยมคางหมู\n",
    "def trapezoid(height,sides):\n",
    "    height = float(5)\n",
    "    side = float(15)\n",
    "    area = (1/2) * height * side\n",
    " \n",
    "    print(\"พื้นที่สี่เหลี่ยมคางหมู คือ \", area)"
   ]
  },
  {
   "cell_type": "code",
   "execution_count": 93,
   "metadata": {},
   "outputs": [],
   "source": [
    "## ห้าเหลี่ยม\n",
    "def pentagon(side):\n",
    "    side = float(5)\n",
    "    area = 1.72 * side ** 2\n",
    " \n",
    "    print(\"พื้นที่ห้าเหลี่ยมมีค่าเท่ากับ %.2f\" % area)"
   ]
  },
  {
   "cell_type": "code",
   "execution_count": 94,
   "metadata": {},
   "outputs": [],
   "source": [
    "## หกเหลี่ยม\n",
    "def hexagon(lengthofside):\n",
    "    lengthofside = float(9)\n",
    "    area = 5.19 * lengthofside ** 2 / 2\n",
    "\n",
    "    print(\"พื้นที่หกเหลี่ยมมีค่าเท่ากับ %.2f\" % area)"
   ]
  },
  {
   "cell_type": "code",
   "execution_count": 99,
   "metadata": {},
   "outputs": [
    {
     "name": "stdout",
     "output_type": "stream",
     "text": [
      "พื้นที่สี่เหลี่ยมผืนผ้ามีค่าเท่ากับ 50.00\n",
      "พื้นที่สามเหลี่ยมมีค่าเท่ากับ 17.50\n",
      "พื้นที่วงรีเท่ากับ 47.10\n",
      "พื้นที่สี่เหลี่ยมคางหมู คือ  37.5\n",
      "พื้นที่ห้าเหลี่ยมมีค่าเท่ากับ 43.00\n",
      "พื้นที่หกเหลี่ยมมีค่าเท่ากับ 210.20\n"
     ]
    }
   ],
   "source": [
    "## ให้เขียน code ทดสอบการเรียกใช้ฟังก์ชั่นทั้งหมด\n",
    "square(5,10)\n",
    "triangle(5,7)\n",
    "oval(5,3)\n",
    "trapezoid(5,15)\n",
    "pentagon(5)\n",
    "hexagon(9)"
   ]
  }
 ],
 "metadata": {
  "kernelspec": {
   "display_name": "Python 3",
   "language": "python",
   "name": "python3"
  },
  "language_info": {
   "name": "python",
   "version": "3.10.11"
  },
  "orig_nbformat": 4
 },
 "nbformat": 4,
 "nbformat_minor": 2
}
